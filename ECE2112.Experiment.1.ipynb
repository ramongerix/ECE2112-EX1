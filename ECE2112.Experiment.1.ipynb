{
 "cells": [
  {
   "cell_type": "markdown",
   "id": "6957ce2e-fbb9-44fe-a39a-7f196a524b58",
   "metadata": {
    "panel-layout": {
     "height": 68.28125,
     "visible": true,
     "width": 100
    }
   },
   "source": [
    "(01) Alphabet Soup Problem \n",
    "[This function takes a string and retuens a string with its letters in alphabetical order]"
   ]
  },
  {
   "cell_type": "code",
   "execution_count": 82,
   "id": "beba3fc3-561f-4afc-bbfc-485c422d0e4d",
   "metadata": {
    "panel-layout": {
     "height": 0,
     "visible": true,
     "width": 100
    }
   },
   "outputs": [
    {
     "name": "stdout",
     "output_type": "stream",
     "text": [
      "dehllloorw\n"
     ]
    }
   ],
   "source": [
    "#Input lowercase words inside the apostrophe, and the function will the letters sort them alphabeitcally\n",
    "\n",
    "#Function define\n",
    "def sort_string_lowerletters(s):\n",
    "    #Sort the characters in the string and join into a single string\n",
    "    return ''.join(sorted(s))\n",
    "\n",
    "#User Input\n",
    "input_string = \"helloworld\"\n",
    "\n",
    "#Calls the function to sort the given lowercase string\n",
    "sorted_string = sort_string_lowerletters(input_string)\n",
    "\n",
    "#Displays the sorted string\n",
    "print(sorted_string)  "
   ]
  },
  {
   "cell_type": "markdown",
   "id": "1d0c5336-8de3-4a6f-b958-54b1bb1032c4",
   "metadata": {
    "panel-layout": {
     "height": 68.28125,
     "visible": true,
     "width": 100
    }
   },
   "source": [
    "(02) Emoticon Problem\n",
    "[This function changes specific words into emoticons]"
   ]
  },
  {
   "cell_type": "code",
   "execution_count": 101,
   "id": "767f26ab-6b72-4753-b22c-276358e0eda6",
   "metadata": {
    "panel-layout": {
     "height": 0,
     "visible": true,
     "width": 100
    }
   },
   "outputs": [
    {
     "name": "stdout",
     "output_type": "stream",
     "text": [
      "Make me :)\n"
     ]
    }
   ],
   "source": [
    "#Function define\n",
    "def emotify(text):\n",
    "\n",
    "    #Emoticons dictionary\n",
    "    emoticons = {\"smile\": \":)\", \"fun\": \":D\", \"sad\": \":((\", \"mad\": \">:(\"}\n",
    "    \n",
    "    #Return the sentence\n",
    "    return ' '.join(emoticons.get(word.lower(), word) for word in text.split())\n",
    "\n",
    "print(emotify(\"Make me smile\"))"
   ]
  },
  {
   "cell_type": "markdown",
   "id": "908db169-1feb-4ee6-ab61-20327948e12d",
   "metadata": {
    "panel-layout": {
     "height": 68.28125,
     "visible": true,
     "width": 100
    }
   },
   "source": [
    "(03) Unpacking List Problem\n",
    "[This function unpacks variables into three elements, first middle and last]"
   ]
  },
  {
   "cell_type": "code",
   "execution_count": 92,
   "id": "dd433d6a-0c0b-470c-adcf-c3f590293081",
   "metadata": {
    "panel-layout": {
     "height": 0,
     "visible": true,
     "width": 100
    }
   },
   "outputs": [
    {
     "name": "stdout",
     "output_type": "stream",
     "text": [
      "first: 1      middle: [2, 3, 4, 5]      last: 6\n"
     ]
    }
   ],
   "source": [
    "#Input Any Digits\n",
    "values = [1, 2, 3, 4, 5, 6]\n",
    "\n",
    "#It categorizes into three elements\n",
    "#\"*\" this will capture the elements between the 1st and last elements\n",
    "first, *middle, last = values\n",
    "\n",
    "#Displays the three elements\n",
    "print(\"first:\", first, \"     middle:\", middle, \"     last:\", last)"
   ]
  }
 ],
 "metadata": {
  "kernelspec": {
   "display_name": "Python 3 (ipykernel)",
   "language": "python",
   "name": "python3"
  },
  "language_info": {
   "codemirror_mode": {
    "name": "ipython",
    "version": 3
   },
   "file_extension": ".py",
   "mimetype": "text/x-python",
   "name": "python",
   "nbconvert_exporter": "python",
   "pygments_lexer": "ipython3",
   "version": "3.12.4"
  },
  "panel-cell-order": [
   "6957ce2e-fbb9-44fe-a39a-7f196a524b58",
   "beba3fc3-561f-4afc-bbfc-485c422d0e4d",
   "1d0c5336-8de3-4a6f-b958-54b1bb1032c4",
   "3096f2ca-826b-4728-a006-4500a7c4c87f",
   "908db169-1feb-4ee6-ab61-20327948e12d",
   "dd433d6a-0c0b-470c-adcf-c3f590293081"
  ]
 },
 "nbformat": 4,
 "nbformat_minor": 5
}
