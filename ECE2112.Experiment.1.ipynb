{
 "cells": [
  {
   "cell_type": "markdown",
   "id": "6957ce2e-fbb9-44fe-a39a-7f196a524b58",
   "metadata": {},
   "source": [
    "(01) Alphabet Soup Problem \n",
    "[This function takes a string and retuens a string with its letters in alphabetical order]"
   ]
  },
  {
   "cell_type": "code",
   "execution_count": 3,
   "id": "46ace3c9-d6f7-4fba-aca9-3cabaa96bea9",
   "metadata": {},
   "outputs": [
    {
     "data": {
      "text/plain": [
       "' HWdellloor'"
      ]
     },
     "execution_count": 3,
     "metadata": {},
     "output_type": "execute_result"
    }
   ],
   "source": [
    "# Input words inside the apostrophe, and the function will the letters sort them alphabeitcally\n",
    "a = 'Hello World' \n",
    "\n",
    "''.join(sorted(a))"
   ]
  },
  {
   "cell_type": "markdown",
   "id": "1d0c5336-8de3-4a6f-b958-54b1bb1032c4",
   "metadata": {},
   "source": [
    "(02) Emoticon Problem\n",
    "[This function changes specific words into emoticons]"
   ]
  },
  {
   "cell_type": "code",
   "execution_count": 12,
   "id": "3096f2ca-826b-4728-a006-4500a7c4c87f",
   "metadata": {},
   "outputs": [
    {
     "name": "stdout",
     "output_type": "stream",
     "text": [
      "Make me :)\n",
      "So much :D\n",
      "I am :((\n",
      "I am >:(\n"
     ]
    }
   ],
   "source": [
    "def emotify(text):\n",
    "    # Emoticons dictionary\n",
    "    emoticons = {\n",
    "        \"smile\": \":)\",\n",
    "        \"fun\": \":D\",\n",
    "        \"sad\": \":((\",\n",
    "        \"mad\": \">:(\"\n",
    "    }\n",
    "\n",
    "    # Replace words with emoticons from the dictionary\n",
    "    words = text.split()\n",
    "    for i in range(len(words)):\n",
    "        word = words[i].lower()\n",
    "        if word in emoticons :\n",
    "            words[i] = emoticons[word]\n",
    "\n",
    "    # Return the sentence\n",
    "    return ' '.join(words)\n",
    "\n",
    "# Displays the Mood Sentence and replaces the mood to an Emoticon that are in the \"emoticons\" dictionary\n",
    "print(emotify(\"Make me smile\"))\n",
    "print(emotify(\"So much fun\"))\n",
    "print(emotify(\"I am sad\"))\n",
    "print(emotify(\"I am mad\"))"
   ]
  },
  {
   "cell_type": "markdown",
   "id": "908db169-1feb-4ee6-ab61-20327948e12d",
   "metadata": {},
   "source": [
    "(03) Unpacking List Problem\n",
    "[This function unpacks variables into three elements, first middle and last]"
   ]
  },
  {
   "cell_type": "code",
   "execution_count": 126,
   "id": "dd433d6a-0c0b-470c-adcf-c3f590293081",
   "metadata": {},
   "outputs": [
    {
     "name": "stdout",
     "output_type": "stream",
     "text": [
      "first: 1      middle: [2, 3, 4, 5]      last: 6\n"
     ]
    }
   ],
   "source": [
    "# Input Any Values\n",
    "values = [1, 2, 3, 4, 5, 6]\n",
    "\n",
    "# It categorizes into three elements\n",
    "first, *middle, last = values\n",
    "\n",
    "# Displays the three elements\n",
    "print(\"first:\", first, \"     middle:\", middle, \"     last:\", last)"
   ]
  }
 ],
 "metadata": {
  "kernelspec": {
   "display_name": "Python 3 (ipykernel)",
   "language": "python",
   "name": "python3"
  },
  "language_info": {
   "codemirror_mode": {
    "name": "ipython",
    "version": 3
   },
   "file_extension": ".py",
   "mimetype": "text/x-python",
   "name": "python",
   "nbconvert_exporter": "python",
   "pygments_lexer": "ipython3",
   "version": "3.12.4"
  }
 },
 "nbformat": 4,
 "nbformat_minor": 5
}
